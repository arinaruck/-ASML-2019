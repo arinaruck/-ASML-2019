{
 "cells": [
  {
   "cell_type": "code",
   "execution_count": 86,
   "metadata": {
    "collapsed": true
   },
   "outputs": [],
   "source": [
    "import numpy as np\n",
    "import matplotlib.pyplot as plt\n",
    "import pandas as pd\n",
    "from sklearn.model_selection import train_test_split\n",
    "from sklearn.metrics import accuracy_score, make_scorer\n",
    "from sklearn.model_selection import cross_val_score, ShuffleSplit\n",
    "from scipy.stats import shapiro\n",
    "from statsmodels.formula.api import ols\n",
    "from statsmodels.stats.anova import anova_lm\n",
    "from sklearn.preprocessing import quantile_transform\n",
    "from statsmodels.graphics.gofplots import qqplot_2samples\n",
    "from statsmodels.graphics.factorplots import interaction_plot\n",
    "from scipy.stats import boxcox, f_oneway\n",
    "from scipy.stats.mstats import kruskalwallis\n",
    "from pingouin import welch_anova\n",
    "import random\n",
    "\n",
    "import seaborn as sns\n",
    "import scipy.stats as stats\n",
    "sns.set(style='darkgrid')\n",
    "\n",
    "import warnings\n",
    "warnings.filterwarnings('ignore')\n",
    "\n",
    "%matplotlib inline"
   ]
  },
  {
   "cell_type": "markdown",
   "metadata": {},
   "source": [
    "## 1. Максимум статистики Краскелла-Уоллиса"
   ]
  },
  {
   "cell_type": "markdown",
   "metadata": {},
   "source": [
    "Пусть у нас есть k выборок размера $n_1, \\dots, n_k$. Общее количество наблюдаемых объектов N, ранки объектов r_1, \\dots, r_N.\n",
    "\n",
    "Выпишем статистику Краскелла-Уоллиса:\n",
    "    \n",
    "$$H = \\dfrac{12}{N(N+1)} \\sum_{i=1}^k n_i\\left(\\overline{r_i} - \\dfrac{N+1}{2}\\right)^2 = \\dfrac{12}{N(N+1)} \\sum_{i=1}^k n_i\\overline{r_i}^2 - 3(N+1)$$\n",
    "\n",
    "Хотим максимизировать H, при фиксированных $n_1, \\dots, n_k$\n",
    "\n",
    "$H \\to max \\Leftrightarrow \\sum_{i=1}^k n_i\\overline{r_i}^2 \\to max$\n",
    "\n",
    "\n",
    "$$\\sum_{i=1}^k n_i\\overline{r_i}^2  = \\sum_{i=1}^k n_i \\left(\\dfrac{\\sum_{j=1}^{n_i} r_{ji}}{n_i}\\right)^2 =  \\sum_{i=1}^k \\dfrac{(\\sum_{j=1}^{n_i} r_{ij})^2}{n_i}$$\n",
    "\n",
    "\n",
    "Так как статистика хочет проверить, из одного ли распределения у нас выборки (чем больше значение статистики, тем вероятнее, что не из одного), то кажется, что самое большое значение она должна принимать, когда выборки разделимы по рангам  e.g. для k=2, $n_1 = 3, n_2=2:$ выборка 1: 1, 2, 3, выборка 2: 4 5 \n",
    "       \n",
    "\n",
    "Покажем это:\n",
    "\n",
    "> Пусть у нас есть фиксированный набор $n_1, \\dots n_k$ и $r_1, \\dots, r_N$ и наблюдаемые объекты как-то распределены по выборкам $1, \\dots, k$. Пусть есть две выборки с суммами рангов $R_{a}, R_{b}$ и элементами с рангами $r_a < r_b$, тогда если $\\dfrac{R_a}{n_a} > \\dfrac{R_b}{n_b}$, то если свопнуть местами элементы соответствующие $r_a, r_b$ в выборках, то значение статистики увеличится\n",
    "\n",
    "Введем $H'= \\sum_{i=1}^k \\dfrac{(\\sum_{j=1}^{n_i} r_{ji})^2}{n_i}$, так как мы хотим задействовать только две выборки, то изменится только часть, соответствующая им: $\\dfrac{(\\sum_{j=1}^{n_a} r_{aj})^2}{n_a} + \\dfrac{(\\sum_{j=1}^{n_b} r_{bj})^2}{n_b} = \\dfrac{R_a^2}{n_a} + \\dfrac{R_b^2}{n_b}$\n",
    "\n",
    "\n",
    "Пусть $r = r_b - r_a > 0$\n",
    "\n",
    "Тогда интересующая нас сумма будет выглядеть так: $\\dfrac{(R_a + r)^2}{n_a} + \\dfrac{(R_b - r)^2}{n_b}$\n",
    "\n",
    "Проверим, что такой своп действительно увеличивает значение статистики: $\\dfrac{(R_a + r)^2}{n_a} + \\dfrac{(R_b - r)^2}{n_b} = \\dfrac{R_a^2}{n_a} + \\dfrac{R_b^2}{n_b} = \\dfrac{2R_ar + r^2}{n_a} + \\dfrac{r^2 - 2R_br}{n_b} = \\dfrac{r^2(n_a + n_b)}{n_an_b} + 2r \\left(\\dfrac{R_a}{n_a} - \\dfrac{R_b}{n_b}\\right) > 0$\n",
    "\n",
    "Такими свопами мы как раз и придем к рангам, отсорченным по выборкам. Теперь посчитаем значение статистики в такой ситуации (тут сложновато). Хотим считать суммы рангов внутри выборки j как арифметическую прогрессию: первый элемент $(\\sum_{s=1}^{j-1}n_s) + 1$, последний: $\\sum_{s=1}^{j}n_s$, количество элементов $n_j$. Тогда сумма одной прогрессии $\\dfrac{(2 \\cdot \\sum_{s=1}^{j-1}n_s + 1 + n_j)n_j}{2}$\n",
    "\n",
    "$H' = \\sum_{j = 1}^k \\dfrac{(2 \\cdot \\sum_{s=1}^{j-1}n_s + 1 + n_j)^2n_j}{4}$\n",
    "\n",
    "$H = \\dfrac{12}{N(N+1)}\\sum_{j = 1}^k \\dfrac{(2 \\cdot \\sum_{s=1}^{j-1}n_s + 1 + n_j)^2n_j}{4} - 3(N + 1)$\n",
    "\n",
    "Например, если все $n_i = 1\n",
    "\n",
    "H = \\dfrac{12}{N(N+1)}\\sum_{j = 1}^N \\dfrac{(2 \\cdot \\sum_{s=1}^{j-1}1 + 1 + 1)^2\\cdot 1}{4} - 3(N + 1) = \\dfrac{12}{N(N+1)}\\sum_{j = 1}^N \\dfrac{(2 (j - 1) + 1 + 1)^2}{4} - 3(N + 1) = \\dfrac{12}{N(N+1)}\\sum_{j = 1}^N j^2 - 3(N + 1) = \\dfrac{12}{N(N+1)} \\dfrac{N(N+1)(2N+1)}{6} - 3(N+1) = 4N + 2 - 3N - 3 = N - 1 $\n"
   ]
  },
  {
   "cell_type": "markdown",
   "metadata": {},
   "source": [
    "# 2. Фигурное катание"
   ]
  },
  {
   "cell_type": "code",
   "execution_count": 5,
   "metadata": {},
   "outputs": [
    {
     "data": {
      "text/html": [
       "<div>\n",
       "<style scoped>\n",
       "    .dataframe tbody tr th:only-of-type {\n",
       "        vertical-align: middle;\n",
       "    }\n",
       "\n",
       "    .dataframe tbody tr th {\n",
       "        vertical-align: top;\n",
       "    }\n",
       "\n",
       "    .dataframe thead th {\n",
       "        text-align: right;\n",
       "    }\n",
       "</style>\n",
       "<table border=\"1\" class=\"dataframe\">\n",
       "  <thead>\n",
       "    <tr style=\"text-align: right;\">\n",
       "      <th></th>\n",
       "      <th>Rank</th>\n",
       "      <th>Athlete</th>\n",
       "      <th>Result</th>\n",
       "      <th>Notes</th>\n",
       "    </tr>\n",
       "  </thead>\n",
       "  <tbody>\n",
       "    <tr>\n",
       "      <th>0</th>\n",
       "      <td>G</td>\n",
       "      <td>Adelina SOTNIKOVARUS</td>\n",
       "      <td>224.59</td>\n",
       "      <td>NaN</td>\n",
       "    </tr>\n",
       "    <tr>\n",
       "      <th>1</th>\n",
       "      <td>S</td>\n",
       "      <td>Yuna KIMKOR</td>\n",
       "      <td>219.11</td>\n",
       "      <td>NaN</td>\n",
       "    </tr>\n",
       "    <tr>\n",
       "      <th>2</th>\n",
       "      <td>B</td>\n",
       "      <td>Carolina KOSTNERITA</td>\n",
       "      <td>216.73</td>\n",
       "      <td>NaN</td>\n",
       "    </tr>\n",
       "    <tr>\n",
       "      <th>3</th>\n",
       "      <td>4</td>\n",
       "      <td>Gracie GOLDUSA</td>\n",
       "      <td>205.53</td>\n",
       "      <td>NaN</td>\n",
       "    </tr>\n",
       "    <tr>\n",
       "      <th>4</th>\n",
       "      <td>5</td>\n",
       "      <td>Yulia LIPNITSKAYARUS</td>\n",
       "      <td>200.57</td>\n",
       "      <td>NaN</td>\n",
       "    </tr>\n",
       "  </tbody>\n",
       "</table>\n",
       "</div>"
      ],
      "text/plain": [
       "  Rank                Athlete  Result  Notes\n",
       "0   G   Adelina SOTNIKOVARUS   224.59    NaN\n",
       "1   S            Yuna KIMKOR   219.11    NaN\n",
       "2   B    Carolina KOSTNERITA   216.73    NaN\n",
       "3    4        Gracie GOLDUSA   205.53    NaN\n",
       "4    5  Yulia LIPNITSKAYARUS   200.57    NaN"
      ]
     },
     "execution_count": 5,
     "metadata": {},
     "output_type": "execute_result"
    }
   ],
   "source": [
    "data = pd.read_csv('/Users/arinaruck/Desktop/cs/ml/hw/figure_skating.csv')\n",
    "data.head()"
   ]
  },
  {
   "cell_type": "code",
   "execution_count": 6,
   "metadata": {
    "collapsed": true
   },
   "outputs": [],
   "source": [
    "data.drop(columns=['Notes'], inplace=True)"
   ]
  },
  {
   "cell_type": "code",
   "execution_count": 7,
   "metadata": {
    "collapsed": true
   },
   "outputs": [],
   "source": [
    "res = data['Result']"
   ]
  },
  {
   "cell_type": "code",
   "execution_count": 8,
   "metadata": {
    "collapsed": true
   },
   "outputs": [],
   "source": [
    "qt_uniform = quantile_transform(res.values.reshape(-1, 1).copy(), n_quantiles=100)\n",
    "qt_normal = quantile_transform(res.values.reshape(-1, 1).copy(), n_quantiles=100, output_distribution=\"normal\")\n",
    "box_cox, _ = boxcox(res)"
   ]
  },
  {
   "cell_type": "code",
   "execution_count": 9,
   "metadata": {},
   "outputs": [
    {
     "data": {
      "image/png": "[encoded data removed]",
      "text/plain": [
       "<Figure size 1224x288 with 3 Axes>"
      ]
     },
     "metadata": {
      "needs_background": "light"
     },
     "output_type": "display_data"
    }
   ],
   "source": [
    "fig, axes = plt.subplots(1, 3, figsize=(17, 4))\n",
    "min_y, max_y = res.min(), res.max()\n",
    "\n",
    "axes[0].scatter(res, qt_uniform);\n",
    "axes[0].plot([min_y, max_y], [qt_uniform.min(), qt_uniform.max()], '--', color='darkorange')\n",
    "axes[0].set_title('qq for data and quantile transform uniform')\n",
    "axes[0].set_xlabel('our data')\n",
    "axes[0].set_ylabel('quantile trainsform uniform');\n",
    "\n",
    "axes[1].scatter(res, qt_normal);\n",
    "axes[1].plot([min_y, max_y], [qt_normal.min(), qt_normal.max()], '--', color='darkorange')\n",
    "axes[1].set_title('qq for data and quantile transform normal')\n",
    "axes[1].set_xlabel('our data')\n",
    "axes[1].set_ylabel('quantile trainsform normal');\n",
    "\n",
    "axes[2].scatter(res, box_cox);\n",
    "axes[2].plot([min_y, max_y],  [box_cox.min(), box_cox.max()], '--', color='darkorange')\n",
    "axes[2].set_title('qq for data and boxcox transform')\n",
    "axes[2].set_xlabel('our data')\n",
    "axes[2].set_ylabel('boxcox');"
   ]
  },
  {
   "cell_type": "code",
   "execution_count": 10,
   "metadata": {},
   "outputs": [
    {
     "data": {
      "image/png": "[encoded data removed]",
      "text/plain": [
       "<Figure size 1224x216 with 4 Axes>"
      ]
     },
     "metadata": {
      "needs_background": "light"
     },
     "output_type": "display_data"
    }
   ],
   "source": [
    "fig, axes = plt.subplots(1, 4, figsize=(17, 3))\n",
    "\n",
    "axes[0].hist(qt_uniform, bins=20)\n",
    "axes[0].set_title('transformed to uniform pdf')\n",
    "\n",
    "axes[1].hist(qt_normal, bins=20)\n",
    "axes[1].set_title('transformed to normal pdf')\n",
    "\n",
    "axes[2].hist(box_cox, bins=20)\n",
    "axes[2].set_title('transformed to normal with boxcox pdf')\n",
    "\n",
    "axes[3].hist(res, bins=27)\n",
    "axes[3].set_title('initial results pdf');"
   ]
  },
  {
   "cell_type": "code",
   "execution_count": 207,
   "metadata": {},
   "outputs": [
    {
     "name": "stdout",
     "output_type": "stream",
     "text": [
      "statistic, p-value:\n",
      "original data: (0.9500691890716553, 0.27188315987586975)\n",
      "quantile normal transform: (0.8654237985610962, 0.004284990020096302)\n",
      "quantile uniform transform: (0.9588580131530762, 0.41591137647628784)\n",
      "box cox: (0.9595347046852112, 0.4291459619998932)\n",
      "quantile normal transform, outliers cleaned: (0.9936044216156006, 0.9998880624771118)\n",
      "quantile normal transform, outliers cleaned: (0.9936044216156006, 0.9998880624771118)\n",
      "quantile uniform transform, a lot of samples: (0.9547258019447327, 0.0017220161389559507)\n",
      "quantile normal transform, a lot of samples: (0.9943155646324158, 0.0007838233141228557)\n",
      "shapiro for normal, a lot of samples: (0.9839810132980347, 0.26754769682884216)\n"
     ]
    }
   ],
   "source": [
    "print(\"statistic, p-value:\")\n",
    "print(\"original data:\", shapiro(res))\n",
    "print(\"quantile normal transform:\", shapiro(qt_normal))\n",
    "print(\"quantile uniform transform:\", shapiro(qt_uniform))\n",
    "print(\"box cox:\", shapiro(box_cox))\n",
    "print(\"quantile normal transform, outliers cleaned:\", shapiro(sorted(qt_normal)[1:-1]))\n",
    "print(\"quantile normal transform, outliers cleaned:\", shapiro(sorted(qt_normal)[1:-1]))\n",
    "print(\"quantile uniform transform, a lot of samples:\", shapiro(\n",
    "    quantile_transform(stats.norm.rvs(size=100).reshape(-1, 1), n_quantiles=100)))\n",
    "print(\"quantile normal transform, a lot of samples:\", shapiro(\n",
    "    quantile_transform(stats.uniform.rvs(size=1000).reshape(-1, 1), output_distribution=\"normal\")))\n",
    "print(\"shapiro for normal, a lot of samples:\", shapiro(stats.norm.rvs(size=100).reshape(-1, 1)))"
   ]
  },
  {
   "cell_type": "markdown",
   "metadata": {},
   "source": [
    "quantile normal и quantile uniform оба дают плохие результаты (противоположные ожидаемым), кажется, это из-за того, что у нас мало данных. (Я попробовала посемплить из нормального 300 штук, перевести его quantile uniform-ом в uniform и скормить шапиру, и шапир сказал, что это совсем не нормальное)\n",
    "boxcox стабильно дает >0.1 и qq похож на прямую, так что я бы использовала его"
   ]
  },
  {
   "cell_type": "markdown",
   "metadata": {
    "collapsed": true
   },
   "source": [
    "# 3. ANOVA vs метода Уэлша vs Краскела-Уоллиса"
   ]
  },
  {
   "cell_type": "markdown",
   "metadata": {},
   "source": [
    "Я не готова писать функцию для этого :("
   ]
  },
  {
   "cell_type": "code",
   "execution_count": 32,
   "metadata": {},
   "outputs": [
    {
     "name": "stdout",
     "output_type": "stream",
     "text": [
      "anova\n"
     ]
    },
    {
     "data": {
      "text/html": [
       "<div>\n",
       "<style scoped>\n",
       "    .dataframe tbody tr th:only-of-type {\n",
       "        vertical-align: middle;\n",
       "    }\n",
       "\n",
       "    .dataframe tbody tr th {\n",
       "        vertical-align: top;\n",
       "    }\n",
       "\n",
       "    .dataframe thead th {\n",
       "        text-align: right;\n",
       "    }\n",
       "</style>\n",
       "<table border=\"1\" class=\"dataframe\">\n",
       "  <thead>\n",
       "    <tr style=\"text-align: right;\">\n",
       "      <th></th>\n",
       "      <th>N(0, 1) 5 elements</th>\n",
       "      <th>N(0, 1) 10 elements</th>\n",
       "      <th>N(0, 1) 20 elements</th>\n",
       "      <th>N(0, 1) 100 elements</th>\n",
       "      <th>N(0, sigma) 5 elements</th>\n",
       "      <th>N(0, sigma) 10 elements</th>\n",
       "      <th>N(0, sigma) 20 elements</th>\n",
       "      <th>N(0, sigma) 100 elements</th>\n",
       "      <th>N(0, 1) imbalenced</th>\n",
       "    </tr>\n",
       "    <tr>\n",
       "      <th>index</th>\n",
       "      <th></th>\n",
       "      <th></th>\n",
       "      <th></th>\n",
       "      <th></th>\n",
       "      <th></th>\n",
       "      <th></th>\n",
       "      <th></th>\n",
       "      <th></th>\n",
       "      <th></th>\n",
       "    </tr>\n",
       "  </thead>\n",
       "  <tbody>\n",
       "    <tr>\n",
       "      <th>type I error</th>\n",
       "      <td>0.056</td>\n",
       "      <td>0.046</td>\n",
       "      <td>0.044</td>\n",
       "      <td>0.038</td>\n",
       "      <td>0.058</td>\n",
       "      <td>0.055</td>\n",
       "      <td>0.065</td>\n",
       "      <td>0.065</td>\n",
       "      <td>0.042</td>\n",
       "    </tr>\n",
       "  </tbody>\n",
       "</table>\n",
       "</div>"
      ],
      "text/plain": [
       "              N(0, 1) 5 elements  N(0, 1) 10 elements  N(0, 1) 20 elements  \\\n",
       "index                                                                        \n",
       "type I error               0.056                0.046                0.044   \n",
       "\n",
       "              N(0, 1) 100 elements  N(0, sigma) 5 elements  \\\n",
       "index                                                        \n",
       "type I error                 0.038                   0.058   \n",
       "\n",
       "              N(0, sigma) 10 elements  N(0, sigma) 20 elements  \\\n",
       "index                                                            \n",
       "type I error                    0.055                    0.065   \n",
       "\n",
       "              N(0, sigma) 100 elements  N(0, 1) imbalenced  \n",
       "index                                                       \n",
       "type I error                     0.065               0.042  "
      ]
     },
     "metadata": {},
     "output_type": "display_data"
    },
    {
     "name": "stdout",
     "output_type": "stream",
     "text": [
      "welch\n"
     ]
    },
    {
     "data": {
      "text/html": [
       "<div>\n",
       "<style scoped>\n",
       "    .dataframe tbody tr th:only-of-type {\n",
       "        vertical-align: middle;\n",
       "    }\n",
       "\n",
       "    .dataframe tbody tr th {\n",
       "        vertical-align: top;\n",
       "    }\n",
       "\n",
       "    .dataframe thead th {\n",
       "        text-align: right;\n",
       "    }\n",
       "</style>\n",
       "<table border=\"1\" class=\"dataframe\">\n",
       "  <thead>\n",
       "    <tr style=\"text-align: right;\">\n",
       "      <th></th>\n",
       "      <th>N(0, 1) 5 elements</th>\n",
       "      <th>N(0, 1) 10 elements</th>\n",
       "      <th>N(0, 1) 20 elements</th>\n",
       "      <th>N(0, 1) 100 elements</th>\n",
       "      <th>N(0, sigma) 5 elements</th>\n",
       "      <th>N(0, sigma) 10 elements</th>\n",
       "      <th>N(0, sigma) 20 elements</th>\n",
       "      <th>N(0, sigma) 100 elements</th>\n",
       "      <th>N(0, 1) imbalenced</th>\n",
       "    </tr>\n",
       "    <tr>\n",
       "      <th>index</th>\n",
       "      <th></th>\n",
       "      <th></th>\n",
       "      <th></th>\n",
       "      <th></th>\n",
       "      <th></th>\n",
       "      <th></th>\n",
       "      <th></th>\n",
       "      <th></th>\n",
       "      <th></th>\n",
       "    </tr>\n",
       "  </thead>\n",
       "  <tbody>\n",
       "    <tr>\n",
       "      <th>type I error</th>\n",
       "      <td>0.051</td>\n",
       "      <td>0.047</td>\n",
       "      <td>0.043</td>\n",
       "      <td>0.036</td>\n",
       "      <td>0.043</td>\n",
       "      <td>0.052</td>\n",
       "      <td>0.052</td>\n",
       "      <td>0.046</td>\n",
       "      <td>0.055</td>\n",
       "    </tr>\n",
       "  </tbody>\n",
       "</table>\n",
       "</div>"
      ],
      "text/plain": [
       "              N(0, 1) 5 elements  N(0, 1) 10 elements  N(0, 1) 20 elements  \\\n",
       "index                                                                        \n",
       "type I error               0.051                0.047                0.043   \n",
       "\n",
       "              N(0, 1) 100 elements  N(0, sigma) 5 elements  \\\n",
       "index                                                        \n",
       "type I error                 0.036                   0.043   \n",
       "\n",
       "              N(0, sigma) 10 elements  N(0, sigma) 20 elements  \\\n",
       "index                                                            \n",
       "type I error                    0.052                    0.052   \n",
       "\n",
       "              N(0, sigma) 100 elements  N(0, 1) imbalenced  \n",
       "index                                                       \n",
       "type I error                     0.046               0.055  "
      ]
     },
     "metadata": {},
     "output_type": "display_data"
    },
    {
     "name": "stdout",
     "output_type": "stream",
     "text": [
      "kruskal-wallis\n"
     ]
    },
    {
     "data": {
      "text/html": [
       "<div>\n",
       "<style scoped>\n",
       "    .dataframe tbody tr th:only-of-type {\n",
       "        vertical-align: middle;\n",
       "    }\n",
       "\n",
       "    .dataframe tbody tr th {\n",
       "        vertical-align: top;\n",
       "    }\n",
       "\n",
       "    .dataframe thead th {\n",
       "        text-align: right;\n",
       "    }\n",
       "</style>\n",
       "<table border=\"1\" class=\"dataframe\">\n",
       "  <thead>\n",
       "    <tr style=\"text-align: right;\">\n",
       "      <th></th>\n",
       "      <th>N(0, 1) 5 elements</th>\n",
       "      <th>N(0, 1) 10 elements</th>\n",
       "      <th>N(0, 1) 20 elements</th>\n",
       "      <th>N(0, 1) 100 elements</th>\n",
       "      <th>N(0, sigma) 5 elements</th>\n",
       "      <th>N(0, sigma) 10 elements</th>\n",
       "      <th>N(0, sigma) 20 elements</th>\n",
       "      <th>N(0, sigma) 100 elements</th>\n",
       "      <th>N(0, 1) imbalenced</th>\n",
       "    </tr>\n",
       "    <tr>\n",
       "      <th>index</th>\n",
       "      <th></th>\n",
       "      <th></th>\n",
       "      <th></th>\n",
       "      <th></th>\n",
       "      <th></th>\n",
       "      <th></th>\n",
       "      <th></th>\n",
       "      <th></th>\n",
       "      <th></th>\n",
       "    </tr>\n",
       "  </thead>\n",
       "  <tbody>\n",
       "    <tr>\n",
       "      <th>type I error</th>\n",
       "      <td>0.054</td>\n",
       "      <td>0.044</td>\n",
       "      <td>0.041</td>\n",
       "      <td>0.036</td>\n",
       "      <td>0.046</td>\n",
       "      <td>0.057</td>\n",
       "      <td>0.06</td>\n",
       "      <td>0.069</td>\n",
       "      <td>0.035</td>\n",
       "    </tr>\n",
       "  </tbody>\n",
       "</table>\n",
       "</div>"
      ],
      "text/plain": [
       "              N(0, 1) 5 elements  N(0, 1) 10 elements  N(0, 1) 20 elements  \\\n",
       "index                                                                        \n",
       "type I error               0.054                0.044                0.041   \n",
       "\n",
       "              N(0, 1) 100 elements  N(0, sigma) 5 elements  \\\n",
       "index                                                        \n",
       "type I error                 0.036                   0.046   \n",
       "\n",
       "              N(0, sigma) 10 elements  N(0, sigma) 20 elements  \\\n",
       "index                                                            \n",
       "type I error                    0.057                     0.06   \n",
       "\n",
       "              N(0, sigma) 100 elements  N(0, 1) imbalenced  \n",
       "index                                                       \n",
       "type I error                     0.069               0.035  "
      ]
     },
     "metadata": {},
     "output_type": "display_data"
    }
   ],
   "source": [
    "from IPython.display import display, Markdown\n",
    "%matplotlib inline\n",
    "\n",
    "ns = [5, 10, 20, 100]\n",
    "sigmas = [1, 2, 3, 4]\n",
    "experiments = 1000\n",
    "alpha = 0.05\n",
    "\n",
    "anova_res = pd.DataFrame({})\n",
    "welch_res = pd.DataFrame({})\n",
    "kruskal_res = pd.DataFrame({})\n",
    "\n",
    "for n in ns:\n",
    "    anova, welch, kruskal_wallis = 0, 0, 0\n",
    "    for _ in range(experiments):\n",
    "        sgms = random.sample(sigmas, k=3)\n",
    "        \n",
    "        sample1, sample2, sample3 = list(stats.norm.rvs(size=n)), list(stats.norm.rvs(size=n)), \\\n",
    "        list(stats.norm.rvs(size=n))\n",
    "        sample1_var, sample2_var, sample3_var = list(stats.norm.rvs(scale=sgms[0], size=n)), \\\n",
    "        list(stats.norm.rvs(scale=sgms[1], size=n)), list(stats.norm.rvs(scale=sgms[2], size=n))\n",
    "        welch_df = pd.DataFrame({'id' : [0] * n + [1] * n + [2] * n, 'samples' : sample1 + sample2 + sample3})\n",
    "        _, p_val_anova = f_oneway(sample1, sample2, sample3)\n",
    "        anova += (p_val_anova < alpha)\n",
    "        p_val_welch = (welch_anova(dv='samples', between='id', data=welch_df)['p-unc'].values)[0]\n",
    "        welch += (p_val_welch < alpha)\n",
    "        _, p_val_kruskalwallis = kruskalwallis(sample1, sample2, sample3)\n",
    "        kruskal_wallis += (p_val_kruskalwallis < alpha)\n",
    "        \n",
    "        anova_res['N(0, 1) {} elements'.format(n)] = [anova/experiments]\n",
    "        welch_res['N(0, 1) {} elements'.format(n)] = [welch/experiments]\n",
    "        kruskal_res['N(0, 1) {} elements'.format(n)] = [kruskal_wallis/experiments]\n",
    "        \n",
    "            \n",
    "for n in ns:\n",
    "    anova_var, welch_var, kruskal_wallis_var = 0, 0, 0\n",
    "    for _ in range(experiments):\n",
    "        sgms = random.sample(sigmas, k=3)\n",
    "        sample1_var, sample2_var, sample3_var = list(stats.norm.rvs(scale=sgms[0], size=n)), \\\n",
    "        list(stats.norm.rvs(scale=sgms[1], size=n)), list(stats.norm.rvs(scale=sgms[2], size=n))\n",
    "        welch_df_var = pd.DataFrame({'id' : [0] * n + [1] * n + [2] * n, \n",
    "                                 'samples' : sample1_var + sample2_var + sample3_var})\n",
    "        _, p_val_anova = f_oneway(sample1_var, sample2_var, sample3_var)\n",
    "        anova_var += (p_val_anova < alpha)\n",
    "        p_val_welch = (welch_anova(dv='samples', between='id', data=welch_df_var)['p-unc'].values)[0]\n",
    "        welch_var += (p_val_welch < alpha)\n",
    "        _, p_val_kruskalwallis = kruskalwallis(sample1_var, sample2_var, sample3_var)\n",
    "        kruskal_wallis_var += (p_val_kruskalwallis < alpha)\n",
    "        \n",
    "        anova_res['N(0, sigma) {} elements'.format(n)] = [anova_var/experiments]\n",
    "        welch_res['N(0, sigma) {} elements'.format(n)] = [welch_var/experiments]\n",
    "        kruskal_res['N(0, sigma) {} elements'.format(n)] = [kruskal_wallis_var/experiments]\n",
    "    \n",
    "\n",
    "anova, welch, kruskal_wallis = 0, 0, 0\n",
    "for _ in range(experiments):\n",
    "    n_samp = random.sample(ns, k=3)\n",
    "\n",
    "    sample1, sample2, sample3 = list(stats.norm.rvs(size=n_samp[0])), list(stats.norm.rvs(size=n_samp[1])), \\\n",
    "    list(stats.norm.rvs(size=n_samp[2]))\n",
    "    welch_df = pd.DataFrame({'id' : [0] * n_samp[0] + [1] * n_samp[1] + [2] * n_samp[2],\n",
    "                             'samples' : sample1 + sample2 + sample3})\n",
    "    _, p_val_anova = f_oneway(sample1, sample2, sample3)\n",
    "    anova += (p_val_anova < alpha)\n",
    "    p_val_welch = (welch_anova(dv='samples', between='id', data=welch_df)['p-unc'].values)[0]\n",
    "    welch += (p_val_welch < alpha)\n",
    "    _, p_val_kruskalwallis = kruskalwallis(sample1, sample2, sample3)\n",
    "    kruskal_wallis += (p_val_kruskalwallis < alpha)\n",
    "\n",
    "anova_res['N(0, 1) imbalenced'] = [anova/experiments]\n",
    "welch_res['N(0, 1) imbalenced'] = [welch/experiments]\n",
    "kruskal_res['N(0, 1) imbalenced'] = [kruskal_wallis/experiments]\n",
    "    \n",
    "anova_res['index'], welch_res['index'], kruskal_res['index'] = ['type I error'], ['type I error'], ['type I error']\n",
    "\n",
    "\n",
    "anova_res.set_index('index', inplace=True)\n",
    "welch_res.set_index('index', inplace=True)\n",
    "kruskal_res.set_index('index', inplace=True)\n",
    "\n",
    "print(\"anova\")\n",
    "display(anova_res.head())\n",
    "print(\"welch\")\n",
    "display(welch_res.head())\n",
    "print(\"kruskal-wallis\")\n",
    "display(kruskal_res.head())\n"
   ]
  },
  {
   "cell_type": "markdown",
   "metadata": {},
   "source": [
    "__Данные из N(0, 1), выборки сбалансированные:__ все три подхода дают ошибку первого рода, близкую к уровню значимости, падающую с ростом выборки\n",
    "\n",
    "__Данные из N(0, $\\sigma$), выборки сбалансированные:__  для разных сигм, лучше всего себя показывает метод Уэлша (ошибка ближе всего к 0.05), ANOVA и метод Крускалла-Уоллиса дают ошибку выше, чем требуемый уровен значимости\n",
    "\n",
    "__Данные из N(0, 1), выборки несбалансированные:__ Видим, что ошибка первого рода ниже всего у Крускал-Уоллиса"
   ]
  },
  {
   "cell_type": "code",
   "execution_count": 34,
   "metadata": {},
   "outputs": [
    {
     "name": "stdout",
     "output_type": "stream",
     "text": [
      "anova\n"
     ]
    },
    {
     "data": {
      "text/html": [
       "<div>\n",
       "<style scoped>\n",
       "    .dataframe tbody tr th:only-of-type {\n",
       "        vertical-align: middle;\n",
       "    }\n",
       "\n",
       "    .dataframe tbody tr th {\n",
       "        vertical-align: top;\n",
       "    }\n",
       "\n",
       "    .dataframe thead th {\n",
       "        text-align: right;\n",
       "    }\n",
       "</style>\n",
       "<table border=\"1\" class=\"dataframe\">\n",
       "  <thead>\n",
       "    <tr style=\"text-align: right;\">\n",
       "      <th></th>\n",
       "      <th>N(mu, 1) 5 elements</th>\n",
       "      <th>N(mu, 1) 10 elements</th>\n",
       "      <th>N(mu, 1) 20 elements</th>\n",
       "      <th>N(mu, 1) 100 elements</th>\n",
       "    </tr>\n",
       "    <tr>\n",
       "      <th>index</th>\n",
       "      <th></th>\n",
       "      <th></th>\n",
       "      <th></th>\n",
       "      <th></th>\n",
       "    </tr>\n",
       "  </thead>\n",
       "  <tbody>\n",
       "    <tr>\n",
       "      <th>power</th>\n",
       "      <td>0.707</td>\n",
       "      <td>0.972</td>\n",
       "      <td>1.0</td>\n",
       "      <td>1.0</td>\n",
       "    </tr>\n",
       "  </tbody>\n",
       "</table>\n",
       "</div>"
      ],
      "text/plain": [
       "       N(mu, 1) 5 elements  N(mu, 1) 10 elements  N(mu, 1) 20 elements  \\\n",
       "index                                                                    \n",
       "power                0.707                 0.972                   1.0   \n",
       "\n",
       "       N(mu, 1) 100 elements  \n",
       "index                         \n",
       "power                    1.0  "
      ]
     },
     "metadata": {},
     "output_type": "display_data"
    },
    {
     "name": "stdout",
     "output_type": "stream",
     "text": [
      "welch\n"
     ]
    },
    {
     "data": {
      "text/html": [
       "<div>\n",
       "<style scoped>\n",
       "    .dataframe tbody tr th:only-of-type {\n",
       "        vertical-align: middle;\n",
       "    }\n",
       "\n",
       "    .dataframe tbody tr th {\n",
       "        vertical-align: top;\n",
       "    }\n",
       "\n",
       "    .dataframe thead th {\n",
       "        text-align: right;\n",
       "    }\n",
       "</style>\n",
       "<table border=\"1\" class=\"dataframe\">\n",
       "  <thead>\n",
       "    <tr style=\"text-align: right;\">\n",
       "      <th></th>\n",
       "      <th>N(mu, 1) 5 elements</th>\n",
       "      <th>N(mu, 1) 10 elements</th>\n",
       "      <th>N(mu, 1) 20 elements</th>\n",
       "      <th>N(mu, 1) 100 elements</th>\n",
       "    </tr>\n",
       "    <tr>\n",
       "      <th>index</th>\n",
       "      <th></th>\n",
       "      <th></th>\n",
       "      <th></th>\n",
       "      <th></th>\n",
       "    </tr>\n",
       "  </thead>\n",
       "  <tbody>\n",
       "    <tr>\n",
       "      <th>power</th>\n",
       "      <td>0.652</td>\n",
       "      <td>0.96</td>\n",
       "      <td>1.0</td>\n",
       "      <td>1.0</td>\n",
       "    </tr>\n",
       "  </tbody>\n",
       "</table>\n",
       "</div>"
      ],
      "text/plain": [
       "       N(mu, 1) 5 elements  N(mu, 1) 10 elements  N(mu, 1) 20 elements  \\\n",
       "index                                                                    \n",
       "power                0.652                  0.96                   1.0   \n",
       "\n",
       "       N(mu, 1) 100 elements  \n",
       "index                         \n",
       "power                    1.0  "
      ]
     },
     "metadata": {},
     "output_type": "display_data"
    },
    {
     "name": "stdout",
     "output_type": "stream",
     "text": [
      "kruskal-wallis\n"
     ]
    },
    {
     "data": {
      "text/html": [
       "<div>\n",
       "<style scoped>\n",
       "    .dataframe tbody tr th:only-of-type {\n",
       "        vertical-align: middle;\n",
       "    }\n",
       "\n",
       "    .dataframe tbody tr th {\n",
       "        vertical-align: top;\n",
       "    }\n",
       "\n",
       "    .dataframe thead th {\n",
       "        text-align: right;\n",
       "    }\n",
       "</style>\n",
       "<table border=\"1\" class=\"dataframe\">\n",
       "  <thead>\n",
       "    <tr style=\"text-align: right;\">\n",
       "      <th></th>\n",
       "      <th>N(mu, 1) 5 elements</th>\n",
       "      <th>N(mu, 1) 10 elements</th>\n",
       "      <th>N(mu, 1) 20 elements</th>\n",
       "      <th>N(mu, 1) 100 elements</th>\n",
       "    </tr>\n",
       "    <tr>\n",
       "      <th>index</th>\n",
       "      <th></th>\n",
       "      <th></th>\n",
       "      <th></th>\n",
       "      <th></th>\n",
       "    </tr>\n",
       "  </thead>\n",
       "  <tbody>\n",
       "    <tr>\n",
       "      <th>power</th>\n",
       "      <td>0.654</td>\n",
       "      <td>0.956</td>\n",
       "      <td>1.0</td>\n",
       "      <td>1.0</td>\n",
       "    </tr>\n",
       "  </tbody>\n",
       "</table>\n",
       "</div>"
      ],
      "text/plain": [
       "       N(mu, 1) 5 elements  N(mu, 1) 10 elements  N(mu, 1) 20 elements  \\\n",
       "index                                                                    \n",
       "power                0.654                 0.956                   1.0   \n",
       "\n",
       "       N(mu, 1) 100 elements  \n",
       "index                         \n",
       "power                    1.0  "
      ]
     },
     "metadata": {},
     "output_type": "display_data"
    }
   ],
   "source": [
    "anova_res_power = pd.DataFrame({})\n",
    "welch_res_power = pd.DataFrame({})\n",
    "kruskal_res_power = pd.DataFrame({})\n",
    "for n in ns:\n",
    "    anova, welch, kruskal_wallis = 0, 0, 0\n",
    "    for _ in range(experiments):\n",
    "        n_samp = random.sample(ns, k=3)\n",
    "\n",
    "        sample1, sample2, sample3 = list(stats.norm.rvs(loc=0, size=n)), list(stats.norm.rvs(loc=1, size=n)), \\\n",
    "        list(stats.norm.rvs(loc=2, size=n))\n",
    "        welch_df = pd.DataFrame({'id' : [0] * n + [1] * n + [2] * n,\n",
    "                                 'samples' : sample1 + sample2 + sample3})\n",
    "        _, p_val_anova = f_oneway(sample1, sample2, sample3)\n",
    "        anova += (p_val_anova < alpha)\n",
    "        p_val_welch = (welch_anova(dv='samples', between='id', data=welch_df)['p-unc'].values)[0]\n",
    "        welch += (p_val_welch < alpha)\n",
    "        _, p_val_kruskalwallis = kruskalwallis(sample1, sample2, sample3)\n",
    "        kruskal_wallis += (p_val_kruskalwallis < alpha)\n",
    "        anova_res_power['N(mu, 1) {} elements'.format(n)] = [anova/experiments]\n",
    "        welch_res_power['N(mu, 1) {} elements'.format(n)] = [welch/experiments]\n",
    "        kruskal_res_power['N(mu, 1) {} elements'.format(n)] = [kruskal_wallis/experiments]\n",
    "\n",
    "anova_res_power['index'], welch_res_power['index'], kruskal_res_power['index'] = ['power'], ['power'], \\\n",
    "['power']\n",
    "\n",
    "anova_res_power.set_index('index', inplace=True)\n",
    "welch_res_power.set_index('index', inplace=True)\n",
    "kruskal_res_power.set_index('index', inplace=True)\n",
    "\n",
    "print(\"anova\")\n",
    "display(anova_res_power.head())\n",
    "print(\"welch\")\n",
    "display(welch_res_power.head())\n",
    "print(\"kruskal-wallis\")\n",
    "display(kruskal_res_power.head())\n"
   ]
  },
  {
   "cell_type": "markdown",
   "metadata": {},
   "source": [
    "__Данные из N($\\mu$, 1), выборки сбалансированные:__ Видно, что для выборки из 5 элементов ошибка II рода очень высока, на 10 элементах мощность уже близка к 1, дальше все хорошо. ANOVA самый мощный из тестов, для всех проверенных размеров выборки"
   ]
  },
  {
   "cell_type": "code",
   "execution_count": 36,
   "metadata": {},
   "outputs": [
    {
     "name": "stdout",
     "output_type": "stream",
     "text": [
      "anova\n"
     ]
    },
    {
     "data": {
      "text/html": [
       "<div>\n",
       "<style scoped>\n",
       "    .dataframe tbody tr th:only-of-type {\n",
       "        vertical-align: middle;\n",
       "    }\n",
       "\n",
       "    .dataframe tbody tr th {\n",
       "        vertical-align: top;\n",
       "    }\n",
       "\n",
       "    .dataframe thead th {\n",
       "        text-align: right;\n",
       "    }\n",
       "</style>\n",
       "<table border=\"1\" class=\"dataframe\">\n",
       "  <thead>\n",
       "    <tr style=\"text-align: right;\">\n",
       "      <th></th>\n",
       "      <th>lognorm(0, 1) 5 elements</th>\n",
       "      <th>lognorm(0, 1) 10 elements</th>\n",
       "      <th>lognorm(0, 1) 20 elements</th>\n",
       "      <th>lognorm(0, 1) 100 elements</th>\n",
       "      <th>lognorm(0, sigma) 5 elements</th>\n",
       "      <th>lognorm(0, sigma) 10 elements</th>\n",
       "      <th>lognorm(0, sigma) 20 elements</th>\n",
       "      <th>lognorm(0, sigma) 100 elements</th>\n",
       "      <th>lognorm(0, 1) imbalenced</th>\n",
       "    </tr>\n",
       "    <tr>\n",
       "      <th>index</th>\n",
       "      <th></th>\n",
       "      <th></th>\n",
       "      <th></th>\n",
       "      <th></th>\n",
       "      <th></th>\n",
       "      <th></th>\n",
       "      <th></th>\n",
       "      <th></th>\n",
       "      <th></th>\n",
       "    </tr>\n",
       "  </thead>\n",
       "  <tbody>\n",
       "    <tr>\n",
       "      <th>type I error</th>\n",
       "      <td>0.032</td>\n",
       "      <td>0.037</td>\n",
       "      <td>0.047</td>\n",
       "      <td>0.05</td>\n",
       "      <td>0.051</td>\n",
       "      <td>0.057</td>\n",
       "      <td>0.055</td>\n",
       "      <td>0.059</td>\n",
       "      <td>0.066</td>\n",
       "    </tr>\n",
       "  </tbody>\n",
       "</table>\n",
       "</div>"
      ],
      "text/plain": [
       "              lognorm(0, 1) 5 elements  lognorm(0, 1) 10 elements  \\\n",
       "index                                                               \n",
       "type I error                     0.032                      0.037   \n",
       "\n",
       "              lognorm(0, 1) 20 elements  lognorm(0, 1) 100 elements  \\\n",
       "index                                                                 \n",
       "type I error                      0.047                        0.05   \n",
       "\n",
       "              lognorm(0, sigma) 5 elements  lognorm(0, sigma) 10 elements  \\\n",
       "index                                                                       \n",
       "type I error                         0.051                          0.057   \n",
       "\n",
       "              lognorm(0, sigma) 20 elements  lognorm(0, sigma) 100 elements  \\\n",
       "index                                                                         \n",
       "type I error                          0.055                           0.059   \n",
       "\n",
       "              lognorm(0, 1) imbalenced  \n",
       "index                                   \n",
       "type I error                     0.066  "
      ]
     },
     "metadata": {},
     "output_type": "display_data"
    },
    {
     "name": "stdout",
     "output_type": "stream",
     "text": [
      "welch\n"
     ]
    },
    {
     "data": {
      "text/html": [
       "<div>\n",
       "<style scoped>\n",
       "    .dataframe tbody tr th:only-of-type {\n",
       "        vertical-align: middle;\n",
       "    }\n",
       "\n",
       "    .dataframe tbody tr th {\n",
       "        vertical-align: top;\n",
       "    }\n",
       "\n",
       "    .dataframe thead th {\n",
       "        text-align: right;\n",
       "    }\n",
       "</style>\n",
       "<table border=\"1\" class=\"dataframe\">\n",
       "  <thead>\n",
       "    <tr style=\"text-align: right;\">\n",
       "      <th></th>\n",
       "      <th>lognorm(0, 1) 5 elements</th>\n",
       "      <th>lognorm(0, 1) 10 elements</th>\n",
       "      <th>lognorm(0, 1) 20 elements</th>\n",
       "      <th>lognorm(0, 1) 100 elements</th>\n",
       "      <th>lognorm(0, sigma) 5 elements</th>\n",
       "      <th>lognorm(0, sigma) 10 elements</th>\n",
       "      <th>lognorm(0, sigma) 20 elements</th>\n",
       "      <th>lognorm(0, sigma) 100 elements</th>\n",
       "      <th>lognorm(0, 1) imbalenced</th>\n",
       "    </tr>\n",
       "    <tr>\n",
       "      <th>index</th>\n",
       "      <th></th>\n",
       "      <th></th>\n",
       "      <th></th>\n",
       "      <th></th>\n",
       "      <th></th>\n",
       "      <th></th>\n",
       "      <th></th>\n",
       "      <th></th>\n",
       "      <th></th>\n",
       "    </tr>\n",
       "  </thead>\n",
       "  <tbody>\n",
       "    <tr>\n",
       "      <th>type I error</th>\n",
       "      <td>0.025</td>\n",
       "      <td>0.025</td>\n",
       "      <td>0.043</td>\n",
       "      <td>0.063</td>\n",
       "      <td>0.05</td>\n",
       "      <td>0.064</td>\n",
       "      <td>0.084</td>\n",
       "      <td>0.064</td>\n",
       "      <td>0.134</td>\n",
       "    </tr>\n",
       "  </tbody>\n",
       "</table>\n",
       "</div>"
      ],
      "text/plain": [
       "              lognorm(0, 1) 5 elements  lognorm(0, 1) 10 elements  \\\n",
       "index                                                               \n",
       "type I error                     0.025                      0.025   \n",
       "\n",
       "              lognorm(0, 1) 20 elements  lognorm(0, 1) 100 elements  \\\n",
       "index                                                                 \n",
       "type I error                      0.043                       0.063   \n",
       "\n",
       "              lognorm(0, sigma) 5 elements  lognorm(0, sigma) 10 elements  \\\n",
       "index                                                                       \n",
       "type I error                          0.05                          0.064   \n",
       "\n",
       "              lognorm(0, sigma) 20 elements  lognorm(0, sigma) 100 elements  \\\n",
       "index                                                                         \n",
       "type I error                          0.084                           0.064   \n",
       "\n",
       "              lognorm(0, 1) imbalenced  \n",
       "index                                   \n",
       "type I error                     0.134  "
      ]
     },
     "metadata": {},
     "output_type": "display_data"
    },
    {
     "name": "stdout",
     "output_type": "stream",
     "text": [
      "kruskal-wallis\n"
     ]
    },
    {
     "data": {
      "text/html": [
       "<div>\n",
       "<style scoped>\n",
       "    .dataframe tbody tr th:only-of-type {\n",
       "        vertical-align: middle;\n",
       "    }\n",
       "\n",
       "    .dataframe tbody tr th {\n",
       "        vertical-align: top;\n",
       "    }\n",
       "\n",
       "    .dataframe thead th {\n",
       "        text-align: right;\n",
       "    }\n",
       "</style>\n",
       "<table border=\"1\" class=\"dataframe\">\n",
       "  <thead>\n",
       "    <tr style=\"text-align: right;\">\n",
       "      <th></th>\n",
       "      <th>lognorm(0, 1) 5 elements</th>\n",
       "      <th>lognorm(0, 1) 10 elements</th>\n",
       "      <th>lognorm(0, 1) 20 elements</th>\n",
       "      <th>lognorm(0, 1) 100 elements</th>\n",
       "      <th>lognorm(0, sigma) 5 elements</th>\n",
       "      <th>lognorm(0, sigma) 10 elements</th>\n",
       "      <th>lognorm(0, sigma) 20 elements</th>\n",
       "      <th>lognorm(0, sigma) 100 elements</th>\n",
       "      <th>lognorm(0, 1) imbalenced</th>\n",
       "    </tr>\n",
       "    <tr>\n",
       "      <th>index</th>\n",
       "      <th></th>\n",
       "      <th></th>\n",
       "      <th></th>\n",
       "      <th></th>\n",
       "      <th></th>\n",
       "      <th></th>\n",
       "      <th></th>\n",
       "      <th></th>\n",
       "      <th></th>\n",
       "    </tr>\n",
       "  </thead>\n",
       "  <tbody>\n",
       "    <tr>\n",
       "      <th>type I error</th>\n",
       "      <td>0.049</td>\n",
       "      <td>0.043</td>\n",
       "      <td>0.063</td>\n",
       "      <td>0.049</td>\n",
       "      <td>0.067</td>\n",
       "      <td>0.135</td>\n",
       "      <td>0.247</td>\n",
       "      <td>0.798</td>\n",
       "      <td>0.046</td>\n",
       "    </tr>\n",
       "  </tbody>\n",
       "</table>\n",
       "</div>"
      ],
      "text/plain": [
       "              lognorm(0, 1) 5 elements  lognorm(0, 1) 10 elements  \\\n",
       "index                                                               \n",
       "type I error                     0.049                      0.043   \n",
       "\n",
       "              lognorm(0, 1) 20 elements  lognorm(0, 1) 100 elements  \\\n",
       "index                                                                 \n",
       "type I error                      0.063                       0.049   \n",
       "\n",
       "              lognorm(0, sigma) 5 elements  lognorm(0, sigma) 10 elements  \\\n",
       "index                                                                       \n",
       "type I error                         0.067                          0.135   \n",
       "\n",
       "              lognorm(0, sigma) 20 elements  lognorm(0, sigma) 100 elements  \\\n",
       "index                                                                         \n",
       "type I error                          0.247                           0.798   \n",
       "\n",
       "              lognorm(0, 1) imbalenced  \n",
       "index                                   \n",
       "type I error                     0.046  "
      ]
     },
     "metadata": {},
     "output_type": "display_data"
    }
   ],
   "source": [
    "def get_lognorm_params(mu, sigma):\n",
    "    ln_var = stats.lognorm.var(s=1, loc=-mu)\n",
    "    ln_mean = stats.lognorm.mean(s=1, loc=-mu, scale=np.sqrt(sigma) / np.sqrt(ln_var))       \n",
    "    return [-ln_mean, np.sqrt(sigma) / np.sqrt(ln_var)]\n",
    "\n",
    "anova_res_lognorm = pd.DataFrame({})\n",
    "welch_res_lognorm = pd.DataFrame({})\n",
    "kruskal_res_lognorm = pd.DataFrame({})\n",
    "\n",
    "for n in ns:\n",
    "    anova, welch, kruskal_wallis = 0, 0, 0\n",
    "    for _ in range(experiments):\n",
    "        mu, sigma = get_lognorm_params(0, 1)\n",
    "        sample1 = list(stats.lognorm.rvs(s=1, loc=mu, scale=sigma, size=n))\n",
    "        sample2 = list(stats.lognorm.rvs(s=1, loc=mu, scale=sigma, size=n))\n",
    "        sample3 = list(stats.lognorm.rvs(s=1, loc=mu, scale=sigma, size=n))\n",
    "        \n",
    "        welch_df = pd.DataFrame({'id' : [0] * n + [1] * n + [2] * n, 'samples' : sample1 + sample2 + sample3})\n",
    "        _, p_val_anova = f_oneway(sample1, sample2, sample3)\n",
    "        anova += (p_val_anova < alpha)\n",
    "        p_val_welch = (welch_anova(dv='samples', between='id', data=welch_df)['p-unc'].values)[0]\n",
    "        welch += (p_val_welch < alpha)\n",
    "        _, p_val_kruskalwallis = kruskalwallis(sample1, sample2, sample3)\n",
    "        kruskal_wallis += (p_val_kruskalwallis < alpha)\n",
    "        \n",
    "        anova_res_lognorm['lognorm(0, 1) {} elements'.format(n)] = [anova/experiments]\n",
    "        welch_res_lognorm['lognorm(0, 1) {} elements'.format(n)] = [welch/experiments]\n",
    "        kruskal_res_lognorm['lognorm(0, 1) {} elements'.format(n)] = [kruskal_wallis/experiments]\n",
    "        \n",
    "            \n",
    "for n in ns:\n",
    "    anova_var, welch_var, kruskal_wallis_var = 0, 0, 0\n",
    "    for _ in range(experiments):\n",
    "        sgms = random.sample(sigmas, k=3)\n",
    "        \n",
    "        mu1, sigma1 = get_lognorm_params(0, sgms[0])\n",
    "        mu2, sigma2 = get_lognorm_params(0, sgms[1])\n",
    "        mu3, sigma3 = get_lognorm_params(0, sgms[2])\n",
    "        sample1_var = list(stats.lognorm.rvs(s=1, loc=mu1, scale=sigma1, size=n))\n",
    "        sample2_var = list(stats.lognorm.rvs(s=1, loc=mu2, scale=sigma2, size=n))\n",
    "        sample3_var = list(stats.lognorm.rvs(s=1, loc=mu3, scale=sigma3, size=n))\n",
    "        \n",
    "        welch_df_var = pd.DataFrame({'id' : [0] * n + [1] * n + [2] * n, \n",
    "                                 'samples' : sample1_var + sample2_var + sample3_var})\n",
    "        _, p_val_anova = f_oneway(sample1_var, sample2_var, sample3_var)\n",
    "        anova_var += (p_val_anova < alpha)\n",
    "        p_val_welch = (welch_anova(dv='samples', between='id', data=welch_df_var)['p-unc'].values)[0]\n",
    "        welch_var += (p_val_welch < alpha)\n",
    "        _, p_val_kruskalwallis = kruskalwallis(sample1_var, sample2_var, sample3_var)\n",
    "        kruskal_wallis_var += (p_val_kruskalwallis < alpha)\n",
    "        \n",
    "        anova_res_lognorm['lognorm(0, sigma) {} elements'.format(n)] = [anova_var/experiments]\n",
    "        welch_res_lognorm['lognorm(0, sigma) {} elements'.format(n)] = [welch_var/experiments]\n",
    "        kruskal_res_lognorm['lognorm(0, sigma) {} elements'.format(n)] = [kruskal_wallis_var/experiments]\n",
    "    \n",
    "\n",
    "anova, welch, kruskal_wallis = 0, 0, 0\n",
    "for _ in range(experiments):\n",
    "    n_samp = random.sample(ns, k=3)\n",
    "\n",
    "    sample1 = list(stats.lognorm.rvs(s=1, loc=mu, scale=sigma, size=n_samp[0]))\n",
    "    sample2 = list(stats.lognorm.rvs(s=1, loc=mu, scale=sigma, size=n_samp[1]))\n",
    "    sample3 = list(stats.lognorm.rvs(s=1, loc=mu, scale=sigma, size=n_samp[2]))\n",
    "\n",
    "    welch_df = pd.DataFrame({'id' : [0] * n_samp[0] + [1] * n_samp[1] + [2] * n_samp[2],\n",
    "                             'samples' : sample1 + sample2 + sample3})\n",
    "    _, p_val_anova = f_oneway(sample1, sample2, sample3)\n",
    "    anova += (p_val_anova < alpha)\n",
    "    p_val_welch = (welch_anova(dv='samples', between='id', data=welch_df)['p-unc'].values)[0]\n",
    "    welch += (p_val_welch < alpha)\n",
    "    _, p_val_kruskalwallis = kruskalwallis(sample1, sample2, sample3)\n",
    "    kruskal_wallis += (p_val_kruskalwallis < alpha)\n",
    "\n",
    "anova_res_lognorm['lognorm(0, 1) imbalenced'] = [anova/experiments]\n",
    "welch_res_lognorm['lognorm(0, 1) imbalenced'] = [welch/experiments]\n",
    "kruskal_res_lognorm['lognorm(0, 1) imbalenced'] = [kruskal_wallis/experiments]\n",
    "\n",
    "anova_res_lognorm['index'], welch_res_lognorm['index'], kruskal_res_lognorm['index'] =\\\n",
    "['type I error'], ['type I error'], ['type I error']\n",
    "\n",
    "\n",
    "anova_res_lognorm.set_index('index', inplace=True)\n",
    "welch_res_lognorm.set_index('index', inplace=True)\n",
    "kruskal_res_lognorm.set_index('index', inplace=True)\n",
    "\n",
    "print(\"anova\")\n",
    "display(anova_res_lognorm.head())\n",
    "print(\"welch\")\n",
    "display(welch_res_lognorm.head())\n",
    "print(\"kruskal-wallis\")\n",
    "display(kruskal_res_lognorm.head())\n"
   ]
  },
  {
   "cell_type": "markdown",
   "metadata": {},
   "source": [
    "__Данные из lognorm(0, 1), выборки сбалансированные:__ все три подхода дают ошибку I рода, близкую к уровню значимости, при этом растет с ростом выборки. Ошибка первого рода выше у Крускал-Уоллиса.\n",
    "\n",
    "__Данные из lognorm(0, $\\sigma$), выборки сбалансированные:__  для разных сигм, ошибки I рода почти всегда выше уровня значимости. Видим, что тесты не применимы для логнормального распределения.\n",
    "\n",
    "__Данные из lognorm(0, 1), выборки несбалансированные:__ Видим, что ошибка первого рода ниже всего у Уэлша"
   ]
  },
  {
   "cell_type": "code",
   "execution_count": 35,
   "metadata": {},
   "outputs": [
    {
     "name": "stdout",
     "output_type": "stream",
     "text": [
      "anova\n"
     ]
    },
    {
     "data": {
      "text/html": [
       "<div>\n",
       "<style scoped>\n",
       "    .dataframe tbody tr th:only-of-type {\n",
       "        vertical-align: middle;\n",
       "    }\n",
       "\n",
       "    .dataframe tbody tr th {\n",
       "        vertical-align: top;\n",
       "    }\n",
       "\n",
       "    .dataframe thead th {\n",
       "        text-align: right;\n",
       "    }\n",
       "</style>\n",
       "<table border=\"1\" class=\"dataframe\">\n",
       "  <thead>\n",
       "    <tr style=\"text-align: right;\">\n",
       "      <th></th>\n",
       "      <th>N(mu, 1) 5 elements</th>\n",
       "      <th>N(mu, 1) 10 elements</th>\n",
       "      <th>N(mu, 1) 20 elements</th>\n",
       "      <th>N(mu, 1) 100 elements</th>\n",
       "    </tr>\n",
       "    <tr>\n",
       "      <th>index</th>\n",
       "      <th></th>\n",
       "      <th></th>\n",
       "      <th></th>\n",
       "      <th></th>\n",
       "    </tr>\n",
       "  </thead>\n",
       "  <tbody>\n",
       "    <tr>\n",
       "      <th>power</th>\n",
       "      <td>0.698</td>\n",
       "      <td>0.967</td>\n",
       "      <td>1.0</td>\n",
       "      <td>1.0</td>\n",
       "    </tr>\n",
       "  </tbody>\n",
       "</table>\n",
       "</div>"
      ],
      "text/plain": [
       "       N(mu, 1) 5 elements  N(mu, 1) 10 elements  N(mu, 1) 20 elements  \\\n",
       "index                                                                    \n",
       "power                0.698                 0.967                   1.0   \n",
       "\n",
       "       N(mu, 1) 100 elements  \n",
       "index                         \n",
       "power                    1.0  "
      ]
     },
     "metadata": {},
     "output_type": "display_data"
    },
    {
     "name": "stdout",
     "output_type": "stream",
     "text": [
      "welch\n"
     ]
    },
    {
     "data": {
      "text/html": [
       "<div>\n",
       "<style scoped>\n",
       "    .dataframe tbody tr th:only-of-type {\n",
       "        vertical-align: middle;\n",
       "    }\n",
       "\n",
       "    .dataframe tbody tr th {\n",
       "        vertical-align: top;\n",
       "    }\n",
       "\n",
       "    .dataframe thead th {\n",
       "        text-align: right;\n",
       "    }\n",
       "</style>\n",
       "<table border=\"1\" class=\"dataframe\">\n",
       "  <thead>\n",
       "    <tr style=\"text-align: right;\">\n",
       "      <th></th>\n",
       "      <th>N(mu, 1) 5 elements</th>\n",
       "      <th>N(mu, 1) 10 elements</th>\n",
       "      <th>N(mu, 1) 20 elements</th>\n",
       "      <th>N(mu, 1) 100 elements</th>\n",
       "    </tr>\n",
       "    <tr>\n",
       "      <th>index</th>\n",
       "      <th></th>\n",
       "      <th></th>\n",
       "      <th></th>\n",
       "      <th></th>\n",
       "    </tr>\n",
       "  </thead>\n",
       "  <tbody>\n",
       "    <tr>\n",
       "      <th>power</th>\n",
       "      <td>0.63</td>\n",
       "      <td>0.956</td>\n",
       "      <td>1.0</td>\n",
       "      <td>1.0</td>\n",
       "    </tr>\n",
       "  </tbody>\n",
       "</table>\n",
       "</div>"
      ],
      "text/plain": [
       "       N(mu, 1) 5 elements  N(mu, 1) 10 elements  N(mu, 1) 20 elements  \\\n",
       "index                                                                    \n",
       "power                 0.63                 0.956                   1.0   \n",
       "\n",
       "       N(mu, 1) 100 elements  \n",
       "index                         \n",
       "power                    1.0  "
      ]
     },
     "metadata": {},
     "output_type": "display_data"
    },
    {
     "name": "stdout",
     "output_type": "stream",
     "text": [
      "kruskal-wallis\n"
     ]
    },
    {
     "data": {
      "text/html": [
       "<div>\n",
       "<style scoped>\n",
       "    .dataframe tbody tr th:only-of-type {\n",
       "        vertical-align: middle;\n",
       "    }\n",
       "\n",
       "    .dataframe tbody tr th {\n",
       "        vertical-align: top;\n",
       "    }\n",
       "\n",
       "    .dataframe thead th {\n",
       "        text-align: right;\n",
       "    }\n",
       "</style>\n",
       "<table border=\"1\" class=\"dataframe\">\n",
       "  <thead>\n",
       "    <tr style=\"text-align: right;\">\n",
       "      <th></th>\n",
       "      <th>N(mu, 1) 5 elements</th>\n",
       "      <th>N(mu, 1) 10 elements</th>\n",
       "      <th>N(mu, 1) 20 elements</th>\n",
       "      <th>N(mu, 1) 100 elements</th>\n",
       "    </tr>\n",
       "    <tr>\n",
       "      <th>index</th>\n",
       "      <th></th>\n",
       "      <th></th>\n",
       "      <th></th>\n",
       "      <th></th>\n",
       "    </tr>\n",
       "  </thead>\n",
       "  <tbody>\n",
       "    <tr>\n",
       "      <th>power</th>\n",
       "      <td>0.652</td>\n",
       "      <td>0.949</td>\n",
       "      <td>1.0</td>\n",
       "      <td>1.0</td>\n",
       "    </tr>\n",
       "  </tbody>\n",
       "</table>\n",
       "</div>"
      ],
      "text/plain": [
       "       N(mu, 1) 5 elements  N(mu, 1) 10 elements  N(mu, 1) 20 elements  \\\n",
       "index                                                                    \n",
       "power                0.652                 0.949                   1.0   \n",
       "\n",
       "       N(mu, 1) 100 elements  \n",
       "index                         \n",
       "power                    1.0  "
      ]
     },
     "metadata": {},
     "output_type": "display_data"
    }
   ],
   "source": [
    "anova_res_lognorm_power = pd.DataFrame({})\n",
    "welch_res_lognorm_power = pd.DataFrame({})\n",
    "kruskal_res_lognorm_power = pd.DataFrame({})\n",
    "for n in ns:\n",
    "    anova, welch, kruskal_wallis = 0, 0, 0\n",
    "    for _ in range(experiments):\n",
    "        n_samp = random.sample(ns, k=3)\n",
    "\n",
    "        sample1, sample2, sample3 = list(stats.norm.rvs(loc=0, size=n)), list(stats.norm.rvs(loc=1, size=n)), \\\n",
    "        list(stats.norm.rvs(loc=2, size=n))\n",
    "        welch_df = pd.DataFrame({'id' : [0] * n + [1] * n + [2] * n,\n",
    "                                 'samples' : sample1 + sample2 + sample3})\n",
    "        _, p_val_anova = f_oneway(sample1, sample2, sample3)\n",
    "        anova += (p_val_anova < alpha)\n",
    "        p_val_welch = (welch_anova(dv='samples', between='id', data=welch_df)['p-unc'].values)[0]\n",
    "        welch += (p_val_welch < alpha)\n",
    "        _, p_val_kruskalwallis = kruskalwallis(sample1, sample2, sample3)\n",
    "        kruskal_wallis += (p_val_kruskalwallis < alpha)\n",
    "        anova_res_lognorm_power['N(mu, 1) {} elements'.format(n)] = [anova/experiments]\n",
    "        welch_res_lognorm_power['N(mu, 1) {} elements'.format(n)] = [welch/experiments]\n",
    "        kruskal_res_lognorm_power['N(mu, 1) {} elements'.format(n)] = [kruskal_wallis/experiments]\n",
    "\n",
    "anova_res_lognorm_power['index'], welch_res_lognorm_power['index'], kruskal_res_lognorm_power['index'] =\\\n",
    "['power'], ['power'], ['power']\n",
    "\n",
    "anova_res_lognorm_power.set_index('index', inplace=True)\n",
    "welch_res_lognorm_power.set_index('index', inplace=True)\n",
    "kruskal_res_lognorm_power.set_index('index', inplace=True)\n",
    "\n",
    "print(\"anova\")\n",
    "display(anova_res_lognorm_power.head())\n",
    "print(\"welch\")\n",
    "display(welch_res_lognorm_power.head())\n",
    "print(\"kruskal-wallis\")\n",
    "display(kruskal_res_lognorm_power.head())\n"
   ]
  },
  {
   "cell_type": "markdown",
   "metadata": {},
   "source": [
    "__Данные из lognorm($\\mu$, 1), выборки сбалансированные:__ Видно, что для выборки из 5 элементов ошибка II рода очень высока, на 10 элементах мощность уже близка к 1, дальше все хорошо. Ситуация почти такая же, как и для нормального распределения."
   ]
  },
  {
   "cell_type": "markdown",
   "metadata": {},
   "source": [
    "## 4. Лечим сенную лихорадку"
   ]
  },
  {
   "cell_type": "code",
   "execution_count": 49,
   "metadata": {
    "collapsed": true
   },
   "outputs": [],
   "source": [
    "data = pd.read_fwf('/Users/arinaruck/Desktop/cs/ml/fever_table.csv')"
   ]
  },
  {
   "cell_type": "code",
   "execution_count": 50,
   "metadata": {},
   "outputs": [
    {
     "data": {
      "text/html": [
       "<div>\n",
       "<style scoped>\n",
       "    .dataframe tbody tr th:only-of-type {\n",
       "        vertical-align: middle;\n",
       "    }\n",
       "\n",
       "    .dataframe tbody tr th {\n",
       "        vertical-align: top;\n",
       "    }\n",
       "\n",
       "    .dataframe thead th {\n",
       "        text-align: right;\n",
       "    }\n",
       "</style>\n",
       "<table border=\"1\" class=\"dataframe\">\n",
       "  <thead>\n",
       "    <tr style=\"text-align: right;\">\n",
       "      <th></th>\n",
       "      <th>hours</th>\n",
       "      <th>A</th>\n",
       "      <th>B</th>\n",
       "      <th>id</th>\n",
       "    </tr>\n",
       "  </thead>\n",
       "  <tbody>\n",
       "    <tr>\n",
       "      <th>0</th>\n",
       "      <td>2.4</td>\n",
       "      <td>1</td>\n",
       "      <td>1</td>\n",
       "      <td>1</td>\n",
       "    </tr>\n",
       "    <tr>\n",
       "      <th>1</th>\n",
       "      <td>2.7</td>\n",
       "      <td>1</td>\n",
       "      <td>1</td>\n",
       "      <td>2</td>\n",
       "    </tr>\n",
       "    <tr>\n",
       "      <th>2</th>\n",
       "      <td>2.3</td>\n",
       "      <td>1</td>\n",
       "      <td>1</td>\n",
       "      <td>3</td>\n",
       "    </tr>\n",
       "    <tr>\n",
       "      <th>3</th>\n",
       "      <td>2.5</td>\n",
       "      <td>1</td>\n",
       "      <td>1</td>\n",
       "      <td>4</td>\n",
       "    </tr>\n",
       "    <tr>\n",
       "      <th>4</th>\n",
       "      <td>4.6</td>\n",
       "      <td>1</td>\n",
       "      <td>2</td>\n",
       "      <td>1</td>\n",
       "    </tr>\n",
       "  </tbody>\n",
       "</table>\n",
       "</div>"
      ],
      "text/plain": [
       "   hours  A  B  id\n",
       "0    2.4  1  1   1\n",
       "1    2.7  1  1   2\n",
       "2    2.3  1  1   3\n",
       "3    2.5  1  1   4\n",
       "4    4.6  1  2   1"
      ]
     },
     "execution_count": 50,
     "metadata": {},
     "output_type": "execute_result"
    }
   ],
   "source": [
    "data.head()"
   ]
  },
  {
   "cell_type": "markdown",
   "metadata": {},
   "source": [
    "### a) Среднее в двухфакторной модели, где А=3, В=2"
   ]
  },
  {
   "cell_type": "code",
   "execution_count": 63,
   "metadata": {},
   "outputs": [
    {
     "name": "stdout",
     "output_type": "stream",
     "text": [
      "10.275\n"
     ]
    }
   ],
   "source": [
    "print(data[(data['A'] == 3) * (data['B'] == 2)]['hours'].mean())"
   ]
  },
  {
   "cell_type": "markdown",
   "metadata": {},
   "source": [
    "### b) QQ-график\n",
    "\n",
    "Построим qq-график наших данных"
   ]
  },
  {
   "cell_type": "code",
   "execution_count": 75,
   "metadata": {},
   "outputs": [
    {
     "data": {
      "image/png": "[encoded data removed]",
      "text/plain": [
       "<Figure size 864x576 with 1 Axes>"
      ]
     },
     "metadata": {
      "needs_background": "light"
     },
     "output_type": "display_data"
    }
   ],
   "source": [
    "import statsmodels.api as sm\n",
    "\n",
    "fig = sm.qqplot(data['hours'].values, line='s')\n",
    "fig.set_figheight(8)\n",
    "fig.set_figwidth(12)\n",
    "plt.title(\"qq-plot\")\n",
    "plt.show()"
   ]
  },
  {
   "cell_type": "code",
   "execution_count": 74,
   "metadata": {},
   "outputs": [
    {
     "data": {
      "image/png": "[encoded data removed]",
      "text/plain": [
       "<Figure size 864x576 with 1 Axes>"
      ]
     },
     "metadata": {
      "needs_background": "light"
     },
     "output_type": "display_data"
    }
   ],
   "source": [
    "box_cox, _ = boxcox(data['hours'].values)\n",
    "fig = sm.qqplot(box_cox, line='s')\n",
    "fig.set_figheight(8)\n",
    "fig.set_figwidth(12)\n",
    "plt.title('qq-plot')\n",
    "plt.show()"
   ]
  },
  {
   "cell_type": "markdown",
   "metadata": {},
   "source": [
    "Видим, что данные довольно похожи на нормальные, квантили находятся почти на одной прямой\n",
    "Если применить к ним преобразование бокса-кокса, почти ничего не изменится"
   ]
  },
  {
   "cell_type": "markdown",
   "metadata": {},
   "source": [
    "### c) График взаимодействия"
   ]
  },
  {
   "cell_type": "code",
   "execution_count": 82,
   "metadata": {},
   "outputs": [
    {
     "data": {
      "image/png": "[encoded data removed]",
      "text/plain": [
       "<Figure size 864x576 with 1 Axes>"
      ]
     },
     "metadata": {
      "needs_background": "light"
     },
     "output_type": "display_data"
    }
   ],
   "source": [
    "fig = interaction_plot(data['A'], \n",
    "                       data['B'], \n",
    "                       data['hours'],\n",
    "                       colors=['red','blue', 'green'], markers=['D','^', 'o'], ms=10)\n",
    "fig.set_figheight(8)\n",
    "fig.set_figwidth(12)\n",
    "a1 = data[data['A'] == 1]['hours'].mean()\n",
    "a2 = data[data['A'] == 2]['hours'].mean()\n",
    "a3 = data[data['A'] == 3]['hours'].mean()\n",
    "plt.plot([1, 2, 3], [a1, a2, a2], color='black', marker='*', label='fixed A mean')\n",
    "plt.legend()\n",
    "plt.title(\"interaction plot\");"
   ]
  },
  {
   "cell_type": "markdown",
   "metadata": {},
   "source": [
    "Посчитаем среднее по маркеру А, сравним с interaction-plot, если взаимодействия нет, то все кривые выглядели бы как черная, но с константными сдвигами. Это не так, значит есть взаимодействие с B"
   ]
  },
  {
   "cell_type": "markdown",
   "metadata": {
    "collapsed": true
   },
   "source": [
    "### d) Проверяем взаимодействие факторов с помощью F-теста"
   ]
  },
  {
   "cell_type": "code",
   "execution_count": 92,
   "metadata": {},
   "outputs": [
    {
     "data": {
      "text/html": [
       "<div>\n",
       "<style scoped>\n",
       "    .dataframe tbody tr th:only-of-type {\n",
       "        vertical-align: middle;\n",
       "    }\n",
       "\n",
       "    .dataframe tbody tr th {\n",
       "        vertical-align: top;\n",
       "    }\n",
       "\n",
       "    .dataframe thead th {\n",
       "        text-align: right;\n",
       "    }\n",
       "</style>\n",
       "<table border=\"1\" class=\"dataframe\">\n",
       "  <thead>\n",
       "    <tr style=\"text-align: right;\">\n",
       "      <th></th>\n",
       "      <th>sum_sq</th>\n",
       "      <th>df</th>\n",
       "      <th>F</th>\n",
       "      <th>PR(&gt;F)</th>\n",
       "      <th>eta_sq</th>\n",
       "      <th>omega_sq</th>\n",
       "    </tr>\n",
       "  </thead>\n",
       "  <tbody>\n",
       "    <tr>\n",
       "      <th>C(A)</th>\n",
       "      <td>220.020</td>\n",
       "      <td>2.0</td>\n",
       "      <td>1827.858462</td>\n",
       "      <td>1.514043e-29</td>\n",
       "      <td>0.587143</td>\n",
       "      <td>0.586727</td>\n",
       "    </tr>\n",
       "    <tr>\n",
       "      <th>C(B)</th>\n",
       "      <td>123.660</td>\n",
       "      <td>2.0</td>\n",
       "      <td>1027.329231</td>\n",
       "      <td>3.348751e-26</td>\n",
       "      <td>0.329998</td>\n",
       "      <td>0.329623</td>\n",
       "    </tr>\n",
       "    <tr>\n",
       "      <th>C(A):C(B)</th>\n",
       "      <td>29.425</td>\n",
       "      <td>4.0</td>\n",
       "      <td>122.226923</td>\n",
       "      <td>6.972083e-17</td>\n",
       "      <td>0.078523</td>\n",
       "      <td>0.077868</td>\n",
       "    </tr>\n",
       "    <tr>\n",
       "      <th>Residual</th>\n",
       "      <td>1.625</td>\n",
       "      <td>27.0</td>\n",
       "      <td>NaN</td>\n",
       "      <td>NaN</td>\n",
       "      <td>NaN</td>\n",
       "      <td>NaN</td>\n",
       "    </tr>\n",
       "  </tbody>\n",
       "</table>\n",
       "</div>"
      ],
      "text/plain": [
       "            sum_sq    df            F        PR(>F)    eta_sq  omega_sq\n",
       "C(A)       220.020   2.0  1827.858462  1.514043e-29  0.587143  0.586727\n",
       "C(B)       123.660   2.0  1027.329231  3.348751e-26  0.329998  0.329623\n",
       "C(A):C(B)   29.425   4.0   122.226923  6.972083e-17  0.078523  0.077868\n",
       "Residual     1.625  27.0          NaN           NaN       NaN       NaN"
      ]
     },
     "execution_count": 92,
     "metadata": {},
     "output_type": "execute_result"
    }
   ],
   "source": [
    "formula = 'hours ~ C(A) + C(B) + C(A):C(B)'\n",
    "model = ols(formula, data).fit()\n",
    "aov_table = anova_lm(model, typ=2)\n",
    "\n",
    "def eta_squared(aov):\n",
    "    aov['eta_sq'] = 'NaN'\n",
    "    aov['eta_sq'] = aov[:-1]['sum_sq'] / sum(aov['sum_sq'])\n",
    "    return aov\n",
    " \n",
    "def omega_squared(aov):\n",
    "    mse = aov['sum_sq'][-1] / aov['df'][-1]\n",
    "    aov['omega_sq'] = 'NaN'\n",
    "    aov['omega_sq'] = (aov[:-1]['sum_sq'] - (aov[:-1]['df']*mse))/(sum(aov['sum_sq'])+mse)\n",
    "    return aov\n",
    "\n",
    "\n",
    "eta_squared(aov_table)\n",
    "omega_squared(aov_table)\n",
    "aov_table"
   ]
  },
  {
   "cell_type": "markdown",
   "metadata": {},
   "source": [
    "У нас гипотезы: B не влияет на часы, А не влияет на часы, нет взаимодействия между А и B. Для всех p-value < 0.05, значит все отклоняем.\n"
   ]
  },
  {
   "cell_type": "markdown",
   "metadata": {},
   "source": [
    "### e) Проверяем наличие эффекта"
   ]
  },
  {
   "cell_type": "markdown",
   "metadata": {},
   "source": [
    "Для обоих факторов $\\eta^2 > 0.26$, что по сему значит сильную выраженность эффекта. При этом по А выраженность эффекта сильнее, чем по B (это можно понять и графически, если посмотреть на interactions plot: эффект по А отражается как разница между средними часами в крайних точках кривой для фиксированной B, а для В то же самое, но для фиксированного А)"
   ]
  },
  {
   "cell_type": "code",
   "execution_count": null,
   "metadata": {
    "collapsed": true
   },
   "outputs": [],
   "source": []
  }
 ],
 "metadata": {
  "kernelspec": {
   "display_name": "Python 3",
   "language": "python",
   "name": "python3"
  },
  "language_info": {
   "codemirror_mode": {
    "name": "ipython",
    "version": 3
   },
   "file_extension": ".py",
   "mimetype": "text/x-python",
   "name": "python",
   "nbconvert_exporter": "python",
   "pygments_lexer": "ipython3",
   "version": "3.6.8"
  }
 },
 "nbformat": 4,
 "nbformat_minor": 2
}
